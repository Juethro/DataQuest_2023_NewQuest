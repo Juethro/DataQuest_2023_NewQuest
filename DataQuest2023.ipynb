{
  "nbformat": 4,
  "nbformat_minor": 0,
  "metadata": {
    "colab": {
      "provenance": [],
      "mount_file_id": "1BzORIyYnQbcw-0WJ1liocedAmSxA16pD",
      "authorship_tag": "ABX9TyNu4MVMQ82H5p4mBmWt12NP",
      "include_colab_link": true
    },
    "kernelspec": {
      "name": "python3",
      "display_name": "Python 3"
    },
    "language_info": {
      "name": "python"
    }
  },
  "cells": [
    {
      "cell_type": "markdown",
      "metadata": {
        "id": "view-in-github",
        "colab_type": "text"
      },
      "source": [
        "<a href=\"https://colab.research.google.com/github/Juethro/DataQuest_2023_NewQuest/blob/jet/DataQuest2023.ipynb\" target=\"_parent\"><img src=\"https://colab.research.google.com/assets/colab-badge.svg\" alt=\"Open In Colab\"/></a>"
      ]
    },
    {
      "cell_type": "code",
      "source": [
        "!pip install -q kaggle\n",
        "!mkdir -p ~/.kaggle\n",
        "!cp kaggle.json ~/.kaggle/\n",
        "!chmod 600 ~/.kaggle/kaggle.json\n",
        "!kaggle competitions download -c tahap-penyisihan-oq-dataquestua"
      ],
      "metadata": {
        "colab": {
          "base_uri": "https://localhost:8080/"
        },
        "id": "nznX6KlG1HVj",
        "outputId": "1691d33a-510d-4e6d-b8f0-818c911abf6f"
      },
      "execution_count": 66,
      "outputs": [
        {
          "output_type": "stream",
          "name": "stdout",
          "text": [
            "tahap-penyisihan-oq-dataquestua.zip: Skipping, found more recently modified local copy (use --force to force download)\n"
          ]
        }
      ]
    },
    {
      "cell_type": "code",
      "source": [
        "!unzip tahap-penyisihan-oq-dataquestua.zip -d datasets"
      ],
      "metadata": {
        "colab": {
          "base_uri": "https://localhost:8080/"
        },
        "id": "MoFRr_vUbZNZ",
        "outputId": "12c00fff-3558-4392-e833-189599e69db0"
      },
      "execution_count": 200,
      "outputs": [
        {
          "output_type": "stream",
          "name": "stdout",
          "text": [
            "Archive:  tahap-penyisihan-oq-dataquestua.zip\n",
            "replace datasets/sample_submission.csv? [y]es, [n]o, [A]ll, [N]one, [r]ename: A\n",
            "  inflating: datasets/sample_submission.csv  \n",
            "  inflating: datasets/test.csv       \n",
            "  inflating: datasets/train.csv      \n"
          ]
        }
      ]
    },
    {
      "cell_type": "code",
      "source": [
        "import pandas as pd"
      ],
      "metadata": {
        "id": "JC8zbnaEbwtO"
      },
      "execution_count": 201,
      "outputs": []
    },
    {
      "cell_type": "code",
      "source": [
        "df = pd.read_csv(\"datasets/train.csv\")\n",
        "df"
      ],
      "metadata": {
        "colab": {
          "base_uri": "https://localhost:8080/",
          "height": 634
        },
        "id": "4ihCD4xeb0k_",
        "outputId": "7c6a358a-8cca-415f-9a12-070aca9971df"
      },
      "execution_count": 202,
      "outputs": [
        {
          "output_type": "execute_result",
          "data": {
            "text/plain": [
              "          datetime               datetime_iso  time-zone           temp  \\\n",
              "0        283996800  1979-01-01 00:00:00+00:00      28800  24.75 Celcius   \n",
              "1        284000400  1979-01-01 01:00:00+00:00      28800        24.58 C   \n",
              "2        284004000  1979-01-01 02:00:00+00:00      28800   26.6 Celcius   \n",
              "3        284007600  1979-01-01 03:00:00+00:00      28800  27.31 Celcius   \n",
              "4        284011200  1979-01-01 04:00:00+00:00      28800          27.41   \n",
              "...            ...                        ...        ...            ...   \n",
              "341875  1514746800  2017-12-31 19:00:00+00:00      28800  25.06 Celcius   \n",
              "341876  1514750400  2017-12-31 20:00:00+00:00      28800        24.51°C   \n",
              "341877  1514754000  2017-12-31 21:00:00+00:00      28800        24.63 C   \n",
              "341878  1514757600  2017-12-31 22:00:00+00:00      28800          26.68   \n",
              "341879  1514761200  2017-12-31 23:00:00+00:00      28800        26.49 C   \n",
              "\n",
              "          visibility   d_point     feels min_temp   max_temp       prssr  \\\n",
              "0                NaN  23.89  C   25.76 C    24.28    25.22°C        1012   \n",
              "1                NaN   23.73 C   25.57 C  23.99 C    25.26 C        1012   \n",
              "2       unidentified   24.06 C    26.6 C   26.1 C      27.39        1012   \n",
              "3                NaN   24.37 C    30.9 C    26.59    28.36 C        1012   \n",
              "4                NaN  25.05  C   31.54 C  26.58 C   28.31 °C        1011   \n",
              "...              ...       ...       ...      ...        ...         ...   \n",
              "341875           NaN     24.55  131.53 C  24.44 C      25.69        1007   \n",
              "341876           NaN   24.17°C     25.58  23.89 C      25.13        1006   \n",
              "341877           NaN     24.29    129.32       24  126.96  C  1007.0 hPa   \n",
              "341878           NaN     24.71     29.76  25.02 C   27.25 °C        1008   \n",
              "341879           NaN      24.9     26.49    26.02   27.09 °C        1008   \n",
              "\n",
              "           sea_level    grnd_level     hum  wind_spd wind_deg rain_1h  \\\n",
              "0       undetermined           NaN      95      0.82  320.0 °    zero   \n",
              "1                NaN           NaN      95  0.96 m/s   338.0°       0   \n",
              "2                NaN  undetermined      86  1.22 m/s   339.0°       0   \n",
              "3                NaN  undetermined      84  1.08 m/s      342    0.13   \n",
              "4                NaN  undetermined      87      0.86   336.0°    0.34   \n",
              "...              ...           ...     ...       ...      ...     ...   \n",
              "341875  undetermined           NaN      97       0.9       13       0   \n",
              "341876  undetermined  undetermined      98  0.85 m/s    21.0°           \n",
              "341877           NaN  undetermined      98  1.54 m/s   26.0 °       0   \n",
              "341878  undetermined           NaN  89.00%   1.46m/s       17  0.3 mm   \n",
              "341879  undetermined  not recorded      91      1.56     6.0°    0.19   \n",
              "\n",
              "            rain_3h snow_1h   snow_3h clouds  \n",
              "0                 0     NaN       NaN    100  \n",
              "1                 0       0         0    100  \n",
              "2       volume:zero     NaN       NaN     99  \n",
              "3               nol       0       NaN     94  \n",
              "4               nol     NaN         0    100  \n",
              "...             ...     ...       ...    ...  \n",
              "341875            0       0         0     99  \n",
              "341876          NaN     NaN         0    100  \n",
              "341877          NaN       0   no_snow     97  \n",
              "341878            0       0  volume:0     98  \n",
              "341879      no-rain       0       NaN     99  \n",
              "\n",
              "[341880 rows x 20 columns]"
            ],
            "text/html": [
              "\n",
              "  <div id=\"df-7e2cd1f0-8ce2-4880-a30e-65a5b90e5f54\" class=\"colab-df-container\">\n",
              "    <div>\n",
              "<style scoped>\n",
              "    .dataframe tbody tr th:only-of-type {\n",
              "        vertical-align: middle;\n",
              "    }\n",
              "\n",
              "    .dataframe tbody tr th {\n",
              "        vertical-align: top;\n",
              "    }\n",
              "\n",
              "    .dataframe thead th {\n",
              "        text-align: right;\n",
              "    }\n",
              "</style>\n",
              "<table border=\"1\" class=\"dataframe\">\n",
              "  <thead>\n",
              "    <tr style=\"text-align: right;\">\n",
              "      <th></th>\n",
              "      <th>datetime</th>\n",
              "      <th>datetime_iso</th>\n",
              "      <th>time-zone</th>\n",
              "      <th>temp</th>\n",
              "      <th>visibility</th>\n",
              "      <th>d_point</th>\n",
              "      <th>feels</th>\n",
              "      <th>min_temp</th>\n",
              "      <th>max_temp</th>\n",
              "      <th>prssr</th>\n",
              "      <th>sea_level</th>\n",
              "      <th>grnd_level</th>\n",
              "      <th>hum</th>\n",
              "      <th>wind_spd</th>\n",
              "      <th>wind_deg</th>\n",
              "      <th>rain_1h</th>\n",
              "      <th>rain_3h</th>\n",
              "      <th>snow_1h</th>\n",
              "      <th>snow_3h</th>\n",
              "      <th>clouds</th>\n",
              "    </tr>\n",
              "  </thead>\n",
              "  <tbody>\n",
              "    <tr>\n",
              "      <th>0</th>\n",
              "      <td>283996800</td>\n",
              "      <td>1979-01-01 00:00:00+00:00</td>\n",
              "      <td>28800</td>\n",
              "      <td>24.75 Celcius</td>\n",
              "      <td>NaN</td>\n",
              "      <td>23.89  C</td>\n",
              "      <td>25.76 C</td>\n",
              "      <td>24.28</td>\n",
              "      <td>25.22°C</td>\n",
              "      <td>1012</td>\n",
              "      <td>undetermined</td>\n",
              "      <td>NaN</td>\n",
              "      <td>95</td>\n",
              "      <td>0.82</td>\n",
              "      <td>320.0 °</td>\n",
              "      <td>zero</td>\n",
              "      <td>0</td>\n",
              "      <td>NaN</td>\n",
              "      <td>NaN</td>\n",
              "      <td>100</td>\n",
              "    </tr>\n",
              "    <tr>\n",
              "      <th>1</th>\n",
              "      <td>284000400</td>\n",
              "      <td>1979-01-01 01:00:00+00:00</td>\n",
              "      <td>28800</td>\n",
              "      <td>24.58 C</td>\n",
              "      <td>NaN</td>\n",
              "      <td>23.73 C</td>\n",
              "      <td>25.57 C</td>\n",
              "      <td>23.99 C</td>\n",
              "      <td>25.26 C</td>\n",
              "      <td>1012</td>\n",
              "      <td>NaN</td>\n",
              "      <td>NaN</td>\n",
              "      <td>95</td>\n",
              "      <td>0.96 m/s</td>\n",
              "      <td>338.0°</td>\n",
              "      <td>0</td>\n",
              "      <td>0</td>\n",
              "      <td>0</td>\n",
              "      <td>0</td>\n",
              "      <td>100</td>\n",
              "    </tr>\n",
              "    <tr>\n",
              "      <th>2</th>\n",
              "      <td>284004000</td>\n",
              "      <td>1979-01-01 02:00:00+00:00</td>\n",
              "      <td>28800</td>\n",
              "      <td>26.6 Celcius</td>\n",
              "      <td>unidentified</td>\n",
              "      <td>24.06 C</td>\n",
              "      <td>26.6 C</td>\n",
              "      <td>26.1 C</td>\n",
              "      <td>27.39</td>\n",
              "      <td>1012</td>\n",
              "      <td>NaN</td>\n",
              "      <td>undetermined</td>\n",
              "      <td>86</td>\n",
              "      <td>1.22 m/s</td>\n",
              "      <td>339.0°</td>\n",
              "      <td>0</td>\n",
              "      <td>volume:zero</td>\n",
              "      <td>NaN</td>\n",
              "      <td>NaN</td>\n",
              "      <td>99</td>\n",
              "    </tr>\n",
              "    <tr>\n",
              "      <th>3</th>\n",
              "      <td>284007600</td>\n",
              "      <td>1979-01-01 03:00:00+00:00</td>\n",
              "      <td>28800</td>\n",
              "      <td>27.31 Celcius</td>\n",
              "      <td>NaN</td>\n",
              "      <td>24.37 C</td>\n",
              "      <td>30.9 C</td>\n",
              "      <td>26.59</td>\n",
              "      <td>28.36 C</td>\n",
              "      <td>1012</td>\n",
              "      <td>NaN</td>\n",
              "      <td>undetermined</td>\n",
              "      <td>84</td>\n",
              "      <td>1.08 m/s</td>\n",
              "      <td>342</td>\n",
              "      <td>0.13</td>\n",
              "      <td>nol</td>\n",
              "      <td>0</td>\n",
              "      <td>NaN</td>\n",
              "      <td>94</td>\n",
              "    </tr>\n",
              "    <tr>\n",
              "      <th>4</th>\n",
              "      <td>284011200</td>\n",
              "      <td>1979-01-01 04:00:00+00:00</td>\n",
              "      <td>28800</td>\n",
              "      <td>27.41</td>\n",
              "      <td>NaN</td>\n",
              "      <td>25.05  C</td>\n",
              "      <td>31.54 C</td>\n",
              "      <td>26.58 C</td>\n",
              "      <td>28.31 °C</td>\n",
              "      <td>1011</td>\n",
              "      <td>NaN</td>\n",
              "      <td>undetermined</td>\n",
              "      <td>87</td>\n",
              "      <td>0.86</td>\n",
              "      <td>336.0°</td>\n",
              "      <td>0.34</td>\n",
              "      <td>nol</td>\n",
              "      <td>NaN</td>\n",
              "      <td>0</td>\n",
              "      <td>100</td>\n",
              "    </tr>\n",
              "    <tr>\n",
              "      <th>...</th>\n",
              "      <td>...</td>\n",
              "      <td>...</td>\n",
              "      <td>...</td>\n",
              "      <td>...</td>\n",
              "      <td>...</td>\n",
              "      <td>...</td>\n",
              "      <td>...</td>\n",
              "      <td>...</td>\n",
              "      <td>...</td>\n",
              "      <td>...</td>\n",
              "      <td>...</td>\n",
              "      <td>...</td>\n",
              "      <td>...</td>\n",
              "      <td>...</td>\n",
              "      <td>...</td>\n",
              "      <td>...</td>\n",
              "      <td>...</td>\n",
              "      <td>...</td>\n",
              "      <td>...</td>\n",
              "      <td>...</td>\n",
              "    </tr>\n",
              "    <tr>\n",
              "      <th>341875</th>\n",
              "      <td>1514746800</td>\n",
              "      <td>2017-12-31 19:00:00+00:00</td>\n",
              "      <td>28800</td>\n",
              "      <td>25.06 Celcius</td>\n",
              "      <td>NaN</td>\n",
              "      <td>24.55</td>\n",
              "      <td>131.53 C</td>\n",
              "      <td>24.44 C</td>\n",
              "      <td>25.69</td>\n",
              "      <td>1007</td>\n",
              "      <td>undetermined</td>\n",
              "      <td>NaN</td>\n",
              "      <td>97</td>\n",
              "      <td>0.9</td>\n",
              "      <td>13</td>\n",
              "      <td>0</td>\n",
              "      <td>0</td>\n",
              "      <td>0</td>\n",
              "      <td>0</td>\n",
              "      <td>99</td>\n",
              "    </tr>\n",
              "    <tr>\n",
              "      <th>341876</th>\n",
              "      <td>1514750400</td>\n",
              "      <td>2017-12-31 20:00:00+00:00</td>\n",
              "      <td>28800</td>\n",
              "      <td>24.51°C</td>\n",
              "      <td>NaN</td>\n",
              "      <td>24.17°C</td>\n",
              "      <td>25.58</td>\n",
              "      <td>23.89 C</td>\n",
              "      <td>25.13</td>\n",
              "      <td>1006</td>\n",
              "      <td>undetermined</td>\n",
              "      <td>undetermined</td>\n",
              "      <td>98</td>\n",
              "      <td>0.85 m/s</td>\n",
              "      <td>21.0°</td>\n",
              "      <td></td>\n",
              "      <td>NaN</td>\n",
              "      <td>NaN</td>\n",
              "      <td>0</td>\n",
              "      <td>100</td>\n",
              "    </tr>\n",
              "    <tr>\n",
              "      <th>341877</th>\n",
              "      <td>1514754000</td>\n",
              "      <td>2017-12-31 21:00:00+00:00</td>\n",
              "      <td>28800</td>\n",
              "      <td>24.63 C</td>\n",
              "      <td>NaN</td>\n",
              "      <td>24.29</td>\n",
              "      <td>129.32</td>\n",
              "      <td>24</td>\n",
              "      <td>126.96  C</td>\n",
              "      <td>1007.0 hPa</td>\n",
              "      <td>NaN</td>\n",
              "      <td>undetermined</td>\n",
              "      <td>98</td>\n",
              "      <td>1.54 m/s</td>\n",
              "      <td>26.0 °</td>\n",
              "      <td>0</td>\n",
              "      <td>NaN</td>\n",
              "      <td>0</td>\n",
              "      <td>no_snow</td>\n",
              "      <td>97</td>\n",
              "    </tr>\n",
              "    <tr>\n",
              "      <th>341878</th>\n",
              "      <td>1514757600</td>\n",
              "      <td>2017-12-31 22:00:00+00:00</td>\n",
              "      <td>28800</td>\n",
              "      <td>26.68</td>\n",
              "      <td>NaN</td>\n",
              "      <td>24.71</td>\n",
              "      <td>29.76</td>\n",
              "      <td>25.02 C</td>\n",
              "      <td>27.25 °C</td>\n",
              "      <td>1008</td>\n",
              "      <td>undetermined</td>\n",
              "      <td>NaN</td>\n",
              "      <td>89.00%</td>\n",
              "      <td>1.46m/s</td>\n",
              "      <td>17</td>\n",
              "      <td>0.3 mm</td>\n",
              "      <td>0</td>\n",
              "      <td>0</td>\n",
              "      <td>volume:0</td>\n",
              "      <td>98</td>\n",
              "    </tr>\n",
              "    <tr>\n",
              "      <th>341879</th>\n",
              "      <td>1514761200</td>\n",
              "      <td>2017-12-31 23:00:00+00:00</td>\n",
              "      <td>28800</td>\n",
              "      <td>26.49 C</td>\n",
              "      <td>NaN</td>\n",
              "      <td>24.9</td>\n",
              "      <td>26.49</td>\n",
              "      <td>26.02</td>\n",
              "      <td>27.09 °C</td>\n",
              "      <td>1008</td>\n",
              "      <td>undetermined</td>\n",
              "      <td>not recorded</td>\n",
              "      <td>91</td>\n",
              "      <td>1.56</td>\n",
              "      <td>6.0°</td>\n",
              "      <td>0.19</td>\n",
              "      <td>no-rain</td>\n",
              "      <td>0</td>\n",
              "      <td>NaN</td>\n",
              "      <td>99</td>\n",
              "    </tr>\n",
              "  </tbody>\n",
              "</table>\n",
              "<p>341880 rows × 20 columns</p>\n",
              "</div>\n",
              "    <div class=\"colab-df-buttons\">\n",
              "\n",
              "  <div class=\"colab-df-container\">\n",
              "    <button class=\"colab-df-convert\" onclick=\"convertToInteractive('df-7e2cd1f0-8ce2-4880-a30e-65a5b90e5f54')\"\n",
              "            title=\"Convert this dataframe to an interactive table.\"\n",
              "            style=\"display:none;\">\n",
              "\n",
              "  <svg xmlns=\"http://www.w3.org/2000/svg\" height=\"24px\" viewBox=\"0 -960 960 960\">\n",
              "    <path d=\"M120-120v-720h720v720H120Zm60-500h600v-160H180v160Zm220 220h160v-160H400v160Zm0 220h160v-160H400v160ZM180-400h160v-160H180v160Zm440 0h160v-160H620v160ZM180-180h160v-160H180v160Zm440 0h160v-160H620v160Z\"/>\n",
              "  </svg>\n",
              "    </button>\n",
              "\n",
              "  <style>\n",
              "    .colab-df-container {\n",
              "      display:flex;\n",
              "      gap: 12px;\n",
              "    }\n",
              "\n",
              "    .colab-df-convert {\n",
              "      background-color: #E8F0FE;\n",
              "      border: none;\n",
              "      border-radius: 50%;\n",
              "      cursor: pointer;\n",
              "      display: none;\n",
              "      fill: #1967D2;\n",
              "      height: 32px;\n",
              "      padding: 0 0 0 0;\n",
              "      width: 32px;\n",
              "    }\n",
              "\n",
              "    .colab-df-convert:hover {\n",
              "      background-color: #E2EBFA;\n",
              "      box-shadow: 0px 1px 2px rgba(60, 64, 67, 0.3), 0px 1px 3px 1px rgba(60, 64, 67, 0.15);\n",
              "      fill: #174EA6;\n",
              "    }\n",
              "\n",
              "    .colab-df-buttons div {\n",
              "      margin-bottom: 4px;\n",
              "    }\n",
              "\n",
              "    [theme=dark] .colab-df-convert {\n",
              "      background-color: #3B4455;\n",
              "      fill: #D2E3FC;\n",
              "    }\n",
              "\n",
              "    [theme=dark] .colab-df-convert:hover {\n",
              "      background-color: #434B5C;\n",
              "      box-shadow: 0px 1px 3px 1px rgba(0, 0, 0, 0.15);\n",
              "      filter: drop-shadow(0px 1px 2px rgba(0, 0, 0, 0.3));\n",
              "      fill: #FFFFFF;\n",
              "    }\n",
              "  </style>\n",
              "\n",
              "    <script>\n",
              "      const buttonEl =\n",
              "        document.querySelector('#df-7e2cd1f0-8ce2-4880-a30e-65a5b90e5f54 button.colab-df-convert');\n",
              "      buttonEl.style.display =\n",
              "        google.colab.kernel.accessAllowed ? 'block' : 'none';\n",
              "\n",
              "      async function convertToInteractive(key) {\n",
              "        const element = document.querySelector('#df-7e2cd1f0-8ce2-4880-a30e-65a5b90e5f54');\n",
              "        const dataTable =\n",
              "          await google.colab.kernel.invokeFunction('convertToInteractive',\n",
              "                                                    [key], {});\n",
              "        if (!dataTable) return;\n",
              "\n",
              "        const docLinkHtml = 'Like what you see? Visit the ' +\n",
              "          '<a target=\"_blank\" href=https://colab.research.google.com/notebooks/data_table.ipynb>data table notebook</a>'\n",
              "          + ' to learn more about interactive tables.';\n",
              "        element.innerHTML = '';\n",
              "        dataTable['output_type'] = 'display_data';\n",
              "        await google.colab.output.renderOutput(dataTable, element);\n",
              "        const docLink = document.createElement('div');\n",
              "        docLink.innerHTML = docLinkHtml;\n",
              "        element.appendChild(docLink);\n",
              "      }\n",
              "    </script>\n",
              "  </div>\n",
              "\n",
              "\n",
              "<div id=\"df-38c35080-9a9f-41fe-b065-214d3bd25440\">\n",
              "  <button class=\"colab-df-quickchart\" onclick=\"quickchart('df-38c35080-9a9f-41fe-b065-214d3bd25440')\"\n",
              "            title=\"Suggest charts.\"\n",
              "            style=\"display:none;\">\n",
              "\n",
              "<svg xmlns=\"http://www.w3.org/2000/svg\" height=\"24px\"viewBox=\"0 0 24 24\"\n",
              "     width=\"24px\">\n",
              "    <g>\n",
              "        <path d=\"M19 3H5c-1.1 0-2 .9-2 2v14c0 1.1.9 2 2 2h14c1.1 0 2-.9 2-2V5c0-1.1-.9-2-2-2zM9 17H7v-7h2v7zm4 0h-2V7h2v10zm4 0h-2v-4h2v4z\"/>\n",
              "    </g>\n",
              "</svg>\n",
              "  </button>\n",
              "\n",
              "<style>\n",
              "  .colab-df-quickchart {\n",
              "      --bg-color: #E8F0FE;\n",
              "      --fill-color: #1967D2;\n",
              "      --hover-bg-color: #E2EBFA;\n",
              "      --hover-fill-color: #174EA6;\n",
              "      --disabled-fill-color: #AAA;\n",
              "      --disabled-bg-color: #DDD;\n",
              "  }\n",
              "\n",
              "  [theme=dark] .colab-df-quickchart {\n",
              "      --bg-color: #3B4455;\n",
              "      --fill-color: #D2E3FC;\n",
              "      --hover-bg-color: #434B5C;\n",
              "      --hover-fill-color: #FFFFFF;\n",
              "      --disabled-bg-color: #3B4455;\n",
              "      --disabled-fill-color: #666;\n",
              "  }\n",
              "\n",
              "  .colab-df-quickchart {\n",
              "    background-color: var(--bg-color);\n",
              "    border: none;\n",
              "    border-radius: 50%;\n",
              "    cursor: pointer;\n",
              "    display: none;\n",
              "    fill: var(--fill-color);\n",
              "    height: 32px;\n",
              "    padding: 0;\n",
              "    width: 32px;\n",
              "  }\n",
              "\n",
              "  .colab-df-quickchart:hover {\n",
              "    background-color: var(--hover-bg-color);\n",
              "    box-shadow: 0 1px 2px rgba(60, 64, 67, 0.3), 0 1px 3px 1px rgba(60, 64, 67, 0.15);\n",
              "    fill: var(--button-hover-fill-color);\n",
              "  }\n",
              "\n",
              "  .colab-df-quickchart-complete:disabled,\n",
              "  .colab-df-quickchart-complete:disabled:hover {\n",
              "    background-color: var(--disabled-bg-color);\n",
              "    fill: var(--disabled-fill-color);\n",
              "    box-shadow: none;\n",
              "  }\n",
              "\n",
              "  .colab-df-spinner {\n",
              "    border: 2px solid var(--fill-color);\n",
              "    border-color: transparent;\n",
              "    border-bottom-color: var(--fill-color);\n",
              "    animation:\n",
              "      spin 1s steps(1) infinite;\n",
              "  }\n",
              "\n",
              "  @keyframes spin {\n",
              "    0% {\n",
              "      border-color: transparent;\n",
              "      border-bottom-color: var(--fill-color);\n",
              "      border-left-color: var(--fill-color);\n",
              "    }\n",
              "    20% {\n",
              "      border-color: transparent;\n",
              "      border-left-color: var(--fill-color);\n",
              "      border-top-color: var(--fill-color);\n",
              "    }\n",
              "    30% {\n",
              "      border-color: transparent;\n",
              "      border-left-color: var(--fill-color);\n",
              "      border-top-color: var(--fill-color);\n",
              "      border-right-color: var(--fill-color);\n",
              "    }\n",
              "    40% {\n",
              "      border-color: transparent;\n",
              "      border-right-color: var(--fill-color);\n",
              "      border-top-color: var(--fill-color);\n",
              "    }\n",
              "    60% {\n",
              "      border-color: transparent;\n",
              "      border-right-color: var(--fill-color);\n",
              "    }\n",
              "    80% {\n",
              "      border-color: transparent;\n",
              "      border-right-color: var(--fill-color);\n",
              "      border-bottom-color: var(--fill-color);\n",
              "    }\n",
              "    90% {\n",
              "      border-color: transparent;\n",
              "      border-bottom-color: var(--fill-color);\n",
              "    }\n",
              "  }\n",
              "</style>\n",
              "\n",
              "  <script>\n",
              "    async function quickchart(key) {\n",
              "      const quickchartButtonEl =\n",
              "        document.querySelector('#' + key + ' button');\n",
              "      quickchartButtonEl.disabled = true;  // To prevent multiple clicks.\n",
              "      quickchartButtonEl.classList.add('colab-df-spinner');\n",
              "      try {\n",
              "        const charts = await google.colab.kernel.invokeFunction(\n",
              "            'suggestCharts', [key], {});\n",
              "      } catch (error) {\n",
              "        console.error('Error during call to suggestCharts:', error);\n",
              "      }\n",
              "      quickchartButtonEl.classList.remove('colab-df-spinner');\n",
              "      quickchartButtonEl.classList.add('colab-df-quickchart-complete');\n",
              "    }\n",
              "    (() => {\n",
              "      let quickchartButtonEl =\n",
              "        document.querySelector('#df-38c35080-9a9f-41fe-b065-214d3bd25440 button');\n",
              "      quickchartButtonEl.style.display =\n",
              "        google.colab.kernel.accessAllowed ? 'block' : 'none';\n",
              "    })();\n",
              "  </script>\n",
              "</div>\n",
              "    </div>\n",
              "  </div>\n"
            ]
          },
          "metadata": {},
          "execution_count": 202
        }
      ]
    },
    {
      "cell_type": "code",
      "source": [
        "ori = df.info()"
      ],
      "metadata": {
        "colab": {
          "base_uri": "https://localhost:8080/"
        },
        "id": "zLSkem2xb_HX",
        "outputId": "e675092d-6573-4240-8224-7b0c7c5bf249"
      },
      "execution_count": 203,
      "outputs": [
        {
          "output_type": "stream",
          "name": "stdout",
          "text": [
            "<class 'pandas.core.frame.DataFrame'>\n",
            "RangeIndex: 341880 entries, 0 to 341879\n",
            "Data columns (total 20 columns):\n",
            " #   Column        Non-Null Count   Dtype \n",
            "---  ------        --------------   ----- \n",
            " 0   datetime      341880 non-null  int64 \n",
            " 1   datetime_iso  341880 non-null  object\n",
            " 2   time-zone     341880 non-null  int64 \n",
            " 3   temp          341880 non-null  object\n",
            " 4   visibility    51112 non-null   object\n",
            " 5   d_point       341880 non-null  object\n",
            " 6   feels         341880 non-null  object\n",
            " 7   min_temp      341880 non-null  object\n",
            " 8   max_temp      341880 non-null  object\n",
            " 9   prssr         341880 non-null  object\n",
            " 10  sea_level     192964 non-null  object\n",
            " 11  grnd_level    192919 non-null  object\n",
            " 12  hum           341880 non-null  object\n",
            " 13  wind_spd      341880 non-null  object\n",
            " 14  wind_deg      341880 non-null  object\n",
            " 15  rain_1h       341880 non-null  object\n",
            " 16  rain_3h       192329 non-null  object\n",
            " 17  snow_1h       192696 non-null  object\n",
            " 18  snow_3h       192699 non-null  object\n",
            " 19  clouds        341880 non-null  object\n",
            "dtypes: int64(2), object(18)\n",
            "memory usage: 52.2+ MB\n"
          ]
        }
      ]
    },
    {
      "cell_type": "markdown",
      "source": [
        "## Data Cleaning"
      ],
      "metadata": {
        "id": "pstYaNQIKoEV"
      }
    },
    {
      "cell_type": "markdown",
      "source": [
        "### Detection"
      ],
      "metadata": {
        "id": "QIp6f5p-Qc6-"
      }
    },
    {
      "cell_type": "code",
      "source": [
        "df[\"visibility\"].unique()"
      ],
      "metadata": {
        "id": "J6PBThViKq3s",
        "outputId": "2fb6d95e-2169-40ea-e938-4d8b5447c80c",
        "colab": {
          "base_uri": "https://localhost:8080/"
        }
      },
      "execution_count": 204,
      "outputs": [
        {
          "output_type": "execute_result",
          "data": {
            "text/plain": [
              "array([nan, 'unidentified', ' ', '-1m', 'unrecognized', 'unknown',\n",
              "       '-1 km', '-1', 'empty', 'undefined', '-1km', '-1 m', 'missing'],\n",
              "      dtype=object)"
            ]
          },
          "metadata": {},
          "execution_count": 204
        }
      ]
    },
    {
      "cell_type": "code",
      "source": [
        "df.visibility.info()"
      ],
      "metadata": {
        "id": "xpAMZ6BDRCP1",
        "outputId": "20182f11-9197-49f2-a233-8972d8cd2a18",
        "colab": {
          "base_uri": "https://localhost:8080/"
        }
      },
      "execution_count": 205,
      "outputs": [
        {
          "output_type": "stream",
          "name": "stdout",
          "text": [
            "<class 'pandas.core.series.Series'>\n",
            "RangeIndex: 341880 entries, 0 to 341879\n",
            "Series name: visibility\n",
            "Non-Null Count  Dtype \n",
            "--------------  ----- \n",
            "51112 non-null  object\n",
            "dtypes: object(1)\n",
            "memory usage: 2.6+ MB\n"
          ]
        }
      ]
    },
    {
      "cell_type": "code",
      "source": [
        "df[\"time-zone\"].unique()"
      ],
      "metadata": {
        "id": "gMCTtR44PitK",
        "outputId": "7f45de9e-c9f4-4d5d-96c1-63a608cbe53c",
        "colab": {
          "base_uri": "https://localhost:8080/"
        }
      },
      "execution_count": 206,
      "outputs": [
        {
          "output_type": "execute_result",
          "data": {
            "text/plain": [
              "array([28800])"
            ]
          },
          "metadata": {},
          "execution_count": 206
        }
      ]
    },
    {
      "cell_type": "code",
      "source": [
        "df[\"temp\"].unique()"
      ],
      "metadata": {
        "id": "IqSCxwWRPm85",
        "outputId": "ff00049b-dfb7-40d2-92bf-c2271244f9dd",
        "colab": {
          "base_uri": "https://localhost:8080/"
        }
      },
      "execution_count": 207,
      "outputs": [
        {
          "output_type": "execute_result",
          "data": {
            "text/plain": [
              "array(['24.75 Celcius', '24.58 C', '26.6 Celcius', ..., '136.06 °C',\n",
              "       '33.48 Celcius', '34.32 C'], dtype=object)"
            ]
          },
          "metadata": {},
          "execution_count": 207
        }
      ]
    },
    {
      "cell_type": "code",
      "source": [
        "df.temp.info()"
      ],
      "metadata": {
        "id": "xN0_7_fmPxrB",
        "outputId": "6eee85ef-5a4a-4520-b49b-21c817a77c1a",
        "colab": {
          "base_uri": "https://localhost:8080/"
        }
      },
      "execution_count": 208,
      "outputs": [
        {
          "output_type": "stream",
          "name": "stdout",
          "text": [
            "<class 'pandas.core.series.Series'>\n",
            "RangeIndex: 341880 entries, 0 to 341879\n",
            "Series name: temp\n",
            "Non-Null Count   Dtype \n",
            "--------------   ----- \n",
            "341880 non-null  object\n",
            "dtypes: object(1)\n",
            "memory usage: 2.6+ MB\n"
          ]
        }
      ]
    },
    {
      "cell_type": "code",
      "source": [
        "df.datetime_iso.info()"
      ],
      "metadata": {
        "id": "6HbEdQFeSROK",
        "outputId": "361ad5b4-3bc7-423b-d816-1cd294f71224",
        "colab": {
          "base_uri": "https://localhost:8080/"
        }
      },
      "execution_count": 209,
      "outputs": [
        {
          "output_type": "stream",
          "name": "stdout",
          "text": [
            "<class 'pandas.core.series.Series'>\n",
            "RangeIndex: 341880 entries, 0 to 341879\n",
            "Series name: datetime_iso\n",
            "Non-Null Count   Dtype \n",
            "--------------   ----- \n",
            "341880 non-null  object\n",
            "dtypes: object(1)\n",
            "memory usage: 2.6+ MB\n"
          ]
        }
      ]
    },
    {
      "cell_type": "code",
      "source": [
        "df.d_point.unique()"
      ],
      "metadata": {
        "id": "7RftfcNsU-Y5",
        "outputId": "c3056d50-fa43-4b32-957c-2af65509a373",
        "colab": {
          "base_uri": "https://localhost:8080/"
        }
      },
      "execution_count": 210,
      "outputs": [
        {
          "output_type": "execute_result",
          "data": {
            "text/plain": [
              "array(['23.89  C', '23.73 C', '24.06 C', ..., '28.13 C', '28.1 Celcius',\n",
              "       '126.76°C'], dtype=object)"
            ]
          },
          "metadata": {},
          "execution_count": 210
        }
      ]
    },
    {
      "cell_type": "code",
      "source": [
        "df.feels"
      ],
      "metadata": {
        "id": "h2s6J0TWWOR8",
        "outputId": "cc9205c6-0379-45df-acf7-442bb3a6c6cb",
        "colab": {
          "base_uri": "https://localhost:8080/"
        }
      },
      "execution_count": 211,
      "outputs": [
        {
          "output_type": "execute_result",
          "data": {
            "text/plain": [
              "0          25.76 C\n",
              "1          25.57 C\n",
              "2           26.6 C\n",
              "3           30.9 C\n",
              "4          31.54 C\n",
              "            ...   \n",
              "341875    131.53 C\n",
              "341876       25.58\n",
              "341877      129.32\n",
              "341878       29.76\n",
              "341879       26.49\n",
              "Name: feels, Length: 341880, dtype: object"
            ]
          },
          "metadata": {},
          "execution_count": 211
        }
      ]
    },
    {
      "cell_type": "code",
      "source": [
        "df.min_temp.value_counts()"
      ],
      "metadata": {
        "id": "IndU4I1GZ2Ue",
        "outputId": "830991c8-86be-49c3-d0a7-c834d8444659",
        "colab": {
          "base_uri": "https://localhost:8080/"
        }
      },
      "execution_count": 212,
      "outputs": [
        {
          "output_type": "execute_result",
          "data": {
            "text/plain": [
              "25.02       1847\n",
              "26.02       1368\n",
              "29.02       1314\n",
              "24.02       1300\n",
              "28.02       1025\n",
              "            ... \n",
              "21.75  C       1\n",
              "21.29          1\n",
              "118.41 C       1\n",
              "116.85°C       1\n",
              "131.18°C       1\n",
              "Name: min_temp, Length: 8347, dtype: int64"
            ]
          },
          "metadata": {},
          "execution_count": 212
        }
      ]
    },
    {
      "cell_type": "code",
      "source": [
        "df.prssr"
      ],
      "metadata": {
        "id": "AEVfkOsHaUqv",
        "outputId": "8f237080-7295-49ae-ecdf-c1803332ef9e",
        "colab": {
          "base_uri": "https://localhost:8080/"
        }
      },
      "execution_count": 213,
      "outputs": [
        {
          "output_type": "execute_result",
          "data": {
            "text/plain": [
              "0               1012\n",
              "1               1012\n",
              "2               1012\n",
              "3               1012\n",
              "4               1011\n",
              "             ...    \n",
              "341875          1007\n",
              "341876          1006\n",
              "341877    1007.0 hPa\n",
              "341878          1008\n",
              "341879          1008\n",
              "Name: prssr, Length: 341880, dtype: object"
            ]
          },
          "metadata": {},
          "execution_count": 213
        }
      ]
    },
    {
      "cell_type": "code",
      "source": [
        "df.sea_level.value_counts()"
      ],
      "metadata": {
        "id": "tnqP2e6aa7IY",
        "outputId": "4ca6f7a0-869e-4360-b4cf-5fb9103bfa13",
        "colab": {
          "base_uri": "https://localhost:8080/"
        }
      },
      "execution_count": 214,
      "outputs": [
        {
          "output_type": "execute_result",
          "data": {
            "text/plain": [
              "undetermined     154582\n",
              "-1                 4890\n",
              "unestablished      4823\n",
              "unsettled          4809\n",
              "not_recorded       4804\n",
              "not-recorded       4803\n",
              "unknown            4792\n",
              "not recorded       4735\n",
              "unspecified        4726\n",
              "Name: sea_level, dtype: int64"
            ]
          },
          "metadata": {},
          "execution_count": 214
        }
      ]
    },
    {
      "cell_type": "code",
      "source": [
        "df.grnd_level.value_counts()"
      ],
      "metadata": {
        "id": "TDehEf0JdudQ",
        "outputId": "b0d00da2-7e61-4c37-a9f5-167ee484625e",
        "colab": {
          "base_uri": "https://localhost:8080/"
        }
      },
      "execution_count": 215,
      "outputs": [
        {
          "output_type": "execute_result",
          "data": {
            "text/plain": [
              "undetermined     148814\n",
              "not recorded       5615\n",
              "not_recorded       5579\n",
              "unspecified        5537\n",
              "-1                 5511\n",
              "unsettled          5497\n",
              "not-recorded       5480\n",
              "unknown            5443\n",
              "unestablished      5443\n",
              "Name: grnd_level, dtype: int64"
            ]
          },
          "metadata": {},
          "execution_count": 215
        }
      ]
    },
    {
      "cell_type": "code",
      "source": [
        "df.hum"
      ],
      "metadata": {
        "id": "y-gpYqjdd4_9",
        "outputId": "74c3caf7-d6ab-4af8-8218-4fbaa82bc48a",
        "colab": {
          "base_uri": "https://localhost:8080/"
        }
      },
      "execution_count": 216,
      "outputs": [
        {
          "output_type": "execute_result",
          "data": {
            "text/plain": [
              "0             95\n",
              "1             95\n",
              "2             86\n",
              "3             84\n",
              "4             87\n",
              "           ...  \n",
              "341875        97\n",
              "341876        98\n",
              "341877        98\n",
              "341878    89.00%\n",
              "341879        91\n",
              "Name: hum, Length: 341880, dtype: object"
            ]
          },
          "metadata": {},
          "execution_count": 216
        }
      ]
    },
    {
      "cell_type": "code",
      "source": [
        "df.wind_spd"
      ],
      "metadata": {
        "id": "h5S2rNIflp7C",
        "outputId": "262877e3-8ad5-4f15-f518-544737e83f98",
        "colab": {
          "base_uri": "https://localhost:8080/"
        }
      },
      "execution_count": 232,
      "outputs": [
        {
          "output_type": "execute_result",
          "data": {
            "text/plain": [
              "0             0.82\n",
              "1         0.96 m/s\n",
              "2         1.22 m/s\n",
              "3         1.08 m/s\n",
              "4             0.86\n",
              "            ...   \n",
              "341875         0.9\n",
              "341876    0.85 m/s\n",
              "341877    1.54 m/s\n",
              "341878     1.46m/s\n",
              "341879        1.56\n",
              "Name: wind_spd, Length: 341880, dtype: object"
            ]
          },
          "metadata": {},
          "execution_count": 232
        }
      ]
    },
    {
      "cell_type": "code",
      "source": [
        "df.wind_deg"
      ],
      "metadata": {
        "id": "OCEeJYjgmn48",
        "outputId": "e46c1934-e592-4c3d-c49c-15a6d04affae",
        "colab": {
          "base_uri": "https://localhost:8080/"
        }
      },
      "execution_count": 236,
      "outputs": [
        {
          "output_type": "execute_result",
          "data": {
            "text/plain": [
              "0         320.0 °\n",
              "1          338.0°\n",
              "2          339.0°\n",
              "3             342\n",
              "4          336.0°\n",
              "           ...   \n",
              "341875         13\n",
              "341876      21.0°\n",
              "341877     26.0 °\n",
              "341878         17\n",
              "341879       6.0°\n",
              "Name: wind_deg, Length: 341880, dtype: object"
            ]
          },
          "metadata": {},
          "execution_count": 236
        }
      ]
    },
    {
      "cell_type": "code",
      "source": [
        "df.rain_1h.value_counts()"
      ],
      "metadata": {
        "id": "3M3FHXeznPJ3",
        "outputId": "1070629c-a3ec-47ad-8a5a-4bd819b7e99c",
        "colab": {
          "base_uri": "https://localhost:8080/"
        }
      },
      "execution_count": 243,
      "outputs": [
        {
          "output_type": "execute_result",
          "data": {
            "text/plain": [
              "0          169494\n",
              "            21290\n",
              "0 mm         5476\n",
              "-1mm         5442\n",
              "zero         5308\n",
              "            ...  \n",
              "13.35           1\n",
              "11.82           1\n",
              "8.2             1\n",
              "5.8mm           1\n",
              "9.16 mm         1\n",
              "Name: rain_1h, Length: 2606, dtype: int64"
            ]
          },
          "metadata": {},
          "execution_count": 243
        }
      ]
    },
    {
      "cell_type": "markdown",
      "source": [
        "### Action"
      ],
      "metadata": {
        "id": "1jBqpV0_QXjF"
      }
    },
    {
      "cell_type": "code",
      "source": [
        "df.drop(\"time-zone\", axis=1, inplace=True)"
      ],
      "metadata": {
        "id": "YZ1GPvLTQi0w"
      },
      "execution_count": 217,
      "outputs": []
    },
    {
      "cell_type": "code",
      "source": [
        "df['temp'] = df['temp'].str.extract(r'(\\d+\\.\\d+|\\d+)').astype(float)"
      ],
      "metadata": {
        "id": "-fm9ebdJQNn7"
      },
      "execution_count": 218,
      "outputs": []
    },
    {
      "cell_type": "code",
      "source": [
        "df['d_point'] = df['d_point'].str.extract(r'(\\d+\\.\\d+|\\d+)').astype(float)"
      ],
      "metadata": {
        "id": "jgEhYvTDV-EX"
      },
      "execution_count": 219,
      "outputs": []
    },
    {
      "cell_type": "code",
      "source": [
        "df['feels'] = df['feels'].str.extract(r'(\\d+\\.\\d+|\\d+)').astype(float)"
      ],
      "metadata": {
        "id": "9nceXC6PZrux"
      },
      "execution_count": 220,
      "outputs": []
    },
    {
      "cell_type": "code",
      "source": [
        "df['min_temp'] = df['min_temp'].str.extract(r'(\\d+\\.\\d+|\\d+)').astype(float)"
      ],
      "metadata": {
        "id": "RysaXwP8Z6n8"
      },
      "execution_count": 221,
      "outputs": []
    },
    {
      "cell_type": "code",
      "source": [
        "df['max_temp'] = df['max_temp'].str.extract(r'(\\d+\\.\\d+|\\d+)').astype(float)"
      ],
      "metadata": {
        "id": "pKMLHZOxaNTa"
      },
      "execution_count": 222,
      "outputs": []
    },
    {
      "cell_type": "code",
      "source": [
        "df['prssr'] = df['prssr'].str.extract(r'(\\d+\\.\\d+|\\d+)').astype(float)"
      ],
      "metadata": {
        "id": "zdjag-9maafQ"
      },
      "execution_count": 225,
      "outputs": []
    },
    {
      "cell_type": "code",
      "source": [
        "df['hum'] = df['hum'].str.extract(r'(\\d+\\.\\d+|\\d+)').astype(float)"
      ],
      "metadata": {
        "id": "GxWMJKHnal0q"
      },
      "execution_count": 227,
      "outputs": []
    },
    {
      "cell_type": "code",
      "source": [
        "df['wind_spd'] = df['wind_spd'].str.extract(r'(\\d+\\.\\d+|\\d+)').astype(float)"
      ],
      "metadata": {
        "id": "jnJD2Qnlluj4"
      },
      "execution_count": 233,
      "outputs": []
    },
    {
      "cell_type": "code",
      "source": [
        "df['wind_deg'] = df['wind_deg'].str.extract(r'(\\d+\\.\\d+|\\d+)').astype(float)"
      ],
      "metadata": {
        "id": "5SEUAj_kl7NE"
      },
      "execution_count": 237,
      "outputs": []
    },
    {
      "cell_type": "code",
      "source": [
        "df[\"rain_1h\"] = df['rain_1h'].str.replace('zero', 0, regex=True)\n",
        "df[\"rain_1h\"] = df['rain_1h'].str.extract(r'(\\d+\\.\\d+|\\d+)').astype(float)"
      ],
      "metadata": {
        "id": "bxfTbKBAnnxB",
        "outputId": "f5faf46f-ec79-45b3-c2eb-7a050fef36ae",
        "colab": {
          "base_uri": "https://localhost:8080/",
          "height": 339
        }
      },
      "execution_count": 245,
      "outputs": [
        {
          "output_type": "error",
          "ename": "TypeError",
          "evalue": "ignored",
          "traceback": [
            "\u001b[0;31m---------------------------------------------------------------------------\u001b[0m",
            "\u001b[0;31mTypeError\u001b[0m                                 Traceback (most recent call last)",
            "\u001b[0;32m<ipython-input-245-b75013c920ad>\u001b[0m in \u001b[0;36m<cell line: 1>\u001b[0;34m()\u001b[0m\n\u001b[0;32m----> 1\u001b[0;31m \u001b[0mdf\u001b[0m\u001b[0;34m[\u001b[0m\u001b[0;34m\"rain_1h\"\u001b[0m\u001b[0;34m]\u001b[0m \u001b[0;34m=\u001b[0m \u001b[0mdf\u001b[0m\u001b[0;34m[\u001b[0m\u001b[0;34m'rain_1h'\u001b[0m\u001b[0;34m]\u001b[0m\u001b[0;34m.\u001b[0m\u001b[0mstr\u001b[0m\u001b[0;34m.\u001b[0m\u001b[0mreplace\u001b[0m\u001b[0;34m(\u001b[0m\u001b[0;34m'zero'\u001b[0m\u001b[0;34m,\u001b[0m \u001b[0;36m0\u001b[0m\u001b[0;34m,\u001b[0m \u001b[0mregex\u001b[0m\u001b[0;34m=\u001b[0m\u001b[0;32mTrue\u001b[0m\u001b[0;34m)\u001b[0m\u001b[0;34m\u001b[0m\u001b[0;34m\u001b[0m\u001b[0m\n\u001b[0m\u001b[1;32m      2\u001b[0m \u001b[0mdf\u001b[0m\u001b[0;34m[\u001b[0m\u001b[0;34m\"rain_1h\"\u001b[0m\u001b[0;34m]\u001b[0m \u001b[0;34m=\u001b[0m \u001b[0mdf\u001b[0m\u001b[0;34m[\u001b[0m\u001b[0;34m'rain_1h'\u001b[0m\u001b[0;34m]\u001b[0m\u001b[0;34m.\u001b[0m\u001b[0mstr\u001b[0m\u001b[0;34m.\u001b[0m\u001b[0mextract\u001b[0m\u001b[0;34m(\u001b[0m\u001b[0;34mr'(\\d+\\.\\d+|\\d+)'\u001b[0m\u001b[0;34m)\u001b[0m\u001b[0;34m.\u001b[0m\u001b[0mastype\u001b[0m\u001b[0;34m(\u001b[0m\u001b[0mfloat\u001b[0m\u001b[0;34m)\u001b[0m\u001b[0;34m\u001b[0m\u001b[0;34m\u001b[0m\u001b[0m\n",
            "\u001b[0;32m/usr/local/lib/python3.10/dist-packages/pandas/core/strings/accessor.py\u001b[0m in \u001b[0;36mwrapper\u001b[0;34m(self, *args, **kwargs)\u001b[0m\n\u001b[1;32m    127\u001b[0m                 )\n\u001b[1;32m    128\u001b[0m                 \u001b[0;32mraise\u001b[0m \u001b[0mTypeError\u001b[0m\u001b[0;34m(\u001b[0m\u001b[0mmsg\u001b[0m\u001b[0;34m)\u001b[0m\u001b[0;34m\u001b[0m\u001b[0;34m\u001b[0m\u001b[0m\n\u001b[0;32m--> 129\u001b[0;31m             \u001b[0;32mreturn\u001b[0m \u001b[0mfunc\u001b[0m\u001b[0;34m(\u001b[0m\u001b[0mself\u001b[0m\u001b[0;34m,\u001b[0m \u001b[0;34m*\u001b[0m\u001b[0margs\u001b[0m\u001b[0;34m,\u001b[0m \u001b[0;34m**\u001b[0m\u001b[0mkwargs\u001b[0m\u001b[0;34m)\u001b[0m\u001b[0;34m\u001b[0m\u001b[0;34m\u001b[0m\u001b[0m\n\u001b[0m\u001b[1;32m    130\u001b[0m \u001b[0;34m\u001b[0m\u001b[0m\n\u001b[1;32m    131\u001b[0m         \u001b[0mwrapper\u001b[0m\u001b[0;34m.\u001b[0m\u001b[0m__name__\u001b[0m \u001b[0;34m=\u001b[0m \u001b[0mfunc_name\u001b[0m\u001b[0;34m\u001b[0m\u001b[0;34m\u001b[0m\u001b[0m\n",
            "\u001b[0;32m/usr/local/lib/python3.10/dist-packages/pandas/core/strings/accessor.py\u001b[0m in \u001b[0;36mreplace\u001b[0;34m(self, pat, repl, n, case, flags, regex)\u001b[0m\n\u001b[1;32m   1471\u001b[0m         \u001b[0;31m# Check whether repl is valid (GH 13438, GH 15055)\u001b[0m\u001b[0;34m\u001b[0m\u001b[0;34m\u001b[0m\u001b[0m\n\u001b[1;32m   1472\u001b[0m         \u001b[0;32mif\u001b[0m \u001b[0;32mnot\u001b[0m \u001b[0;34m(\u001b[0m\u001b[0misinstance\u001b[0m\u001b[0;34m(\u001b[0m\u001b[0mrepl\u001b[0m\u001b[0;34m,\u001b[0m \u001b[0mstr\u001b[0m\u001b[0;34m)\u001b[0m \u001b[0;32mor\u001b[0m \u001b[0mcallable\u001b[0m\u001b[0;34m(\u001b[0m\u001b[0mrepl\u001b[0m\u001b[0;34m)\u001b[0m\u001b[0;34m)\u001b[0m\u001b[0;34m:\u001b[0m\u001b[0;34m\u001b[0m\u001b[0;34m\u001b[0m\u001b[0m\n\u001b[0;32m-> 1473\u001b[0;31m             \u001b[0;32mraise\u001b[0m \u001b[0mTypeError\u001b[0m\u001b[0;34m(\u001b[0m\u001b[0;34m\"repl must be a string or callable\"\u001b[0m\u001b[0;34m)\u001b[0m\u001b[0;34m\u001b[0m\u001b[0;34m\u001b[0m\u001b[0m\n\u001b[0m\u001b[1;32m   1474\u001b[0m \u001b[0;34m\u001b[0m\u001b[0m\n\u001b[1;32m   1475\u001b[0m         \u001b[0mis_compiled_re\u001b[0m \u001b[0;34m=\u001b[0m \u001b[0mis_re\u001b[0m\u001b[0;34m(\u001b[0m\u001b[0mpat\u001b[0m\u001b[0;34m)\u001b[0m\u001b[0;34m\u001b[0m\u001b[0;34m\u001b[0m\u001b[0m\n",
            "\u001b[0;31mTypeError\u001b[0m: repl must be a string or callable"
          ]
        }
      ]
    },
    {
      "cell_type": "code",
      "source": [
        "df['datetime_iso'] = pd.to_datetime(df['datetime_iso'])\n",
        "\n",
        "df['tahun'] = df['datetime_iso'].dt.year\n",
        "df['bulan'] = df['datetime_iso'].dt.month\n",
        "\n",
        "df.drop(\"datetime_iso\", axis=1, inplace=True)"
      ],
      "metadata": {
        "id": "C3mHoHyWS5aq"
      },
      "execution_count": 229,
      "outputs": []
    },
    {
      "cell_type": "code",
      "source": [
        "df.info()"
      ],
      "metadata": {
        "id": "-_wcgkXyZoPe",
        "outputId": "bc8f4132-0001-4ed3-85fc-83149d982a03",
        "colab": {
          "base_uri": "https://localhost:8080/"
        }
      },
      "execution_count": 238,
      "outputs": [
        {
          "output_type": "stream",
          "name": "stdout",
          "text": [
            "<class 'pandas.core.frame.DataFrame'>\n",
            "RangeIndex: 341880 entries, 0 to 341879\n",
            "Data columns (total 20 columns):\n",
            " #   Column      Non-Null Count   Dtype  \n",
            "---  ------      --------------   -----  \n",
            " 0   datetime    341880 non-null  int64  \n",
            " 1   temp        341880 non-null  float64\n",
            " 2   visibility  51112 non-null   object \n",
            " 3   d_point     341880 non-null  float64\n",
            " 4   feels       341880 non-null  float64\n",
            " 5   min_temp    341880 non-null  float64\n",
            " 6   max_temp    341880 non-null  float64\n",
            " 7   prssr       341880 non-null  float64\n",
            " 8   sea_level   192964 non-null  object \n",
            " 9   grnd_level  192919 non-null  object \n",
            " 10  hum         341880 non-null  float64\n",
            " 11  wind_spd    341880 non-null  float64\n",
            " 12  wind_deg    341880 non-null  float64\n",
            " 13  rain_1h     341880 non-null  object \n",
            " 14  rain_3h     192329 non-null  object \n",
            " 15  snow_1h     192696 non-null  object \n",
            " 16  snow_3h     192699 non-null  object \n",
            " 17  clouds      341880 non-null  object \n",
            " 18  tahun       341880 non-null  int64  \n",
            " 19  bulan       341880 non-null  int64  \n",
            "dtypes: float64(9), int64(3), object(8)\n",
            "memory usage: 52.2+ MB\n"
          ]
        }
      ]
    }
  ]
}